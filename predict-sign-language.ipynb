{
 "cells": [
  {
   "cell_type": "markdown",
   "id": "5034fdac",
   "metadata": {
    "papermill": {
     "duration": 0.005828,
     "end_time": "2023-01-07T12:50:47.658671",
     "exception": false,
     "start_time": "2023-01-07T12:50:47.652843",
     "status": "completed"
    },
    "tags": []
   },
   "source": [
    "**TODO Flowchart**\n",
    "1. Build dataset out of the data availale (train and validation)\n",
    "2. Normalize the data\n",
    "3. Build model\n",
    "     1. Create augmentation layer for regularization\n",
    "     2. Define CNN layers\n",
    "     3. Dropout\n",
    "     4. DNN layers (classification layer)"
   ]
  },
  {
   "cell_type": "code",
   "execution_count": 1,
   "id": "01d46d94",
   "metadata": {
    "_cell_guid": "b1076dfc-b9ad-4769-8c92-a6c4dae69d19",
    "_uuid": "8f2839f25d086af736a60e9eeb907d3b93b6e0e5",
    "execution": {
     "iopub.execute_input": "2023-01-07T12:50:47.669895Z",
     "iopub.status.busy": "2023-01-07T12:50:47.669509Z",
     "iopub.status.idle": "2023-01-07T12:50:47.679930Z",
     "shell.execute_reply": "2023-01-07T12:50:47.679037Z"
    },
    "papermill": {
     "duration": 0.018285,
     "end_time": "2023-01-07T12:50:47.681916",
     "exception": false,
     "start_time": "2023-01-07T12:50:47.663631",
     "status": "completed"
    },
    "tags": []
   },
   "outputs": [],
   "source": [
    "import numpy as np\n",
    "import os\n",
    "import matplotlib.pyplot as plt"
   ]
  },
  {
   "cell_type": "code",
   "execution_count": 2,
   "id": "cc9d7db9",
   "metadata": {
    "execution": {
     "iopub.execute_input": "2023-01-07T12:50:47.692881Z",
     "iopub.status.busy": "2023-01-07T12:50:47.692090Z",
     "iopub.status.idle": "2023-01-07T12:50:52.446490Z",
     "shell.execute_reply": "2023-01-07T12:50:52.445543Z"
    },
    "papermill": {
     "duration": 4.762559,
     "end_time": "2023-01-07T12:50:52.449222",
     "exception": false,
     "start_time": "2023-01-07T12:50:47.686663",
     "status": "completed"
    },
    "tags": []
   },
   "outputs": [],
   "source": [
    "import tensorflow as tf\n",
    "from tensorflow.keras.utils import image_dataset_from_directory"
   ]
  },
  {
   "cell_type": "markdown",
   "id": "d59e46ef",
   "metadata": {
    "papermill": {
     "duration": 0.004592,
     "end_time": "2023-01-07T12:50:52.458785",
     "exception": false,
     "start_time": "2023-01-07T12:50:52.454193",
     "status": "completed"
    },
    "tags": []
   },
   "source": [
    "**Preparing data pipeline**"
   ]
  },
  {
   "cell_type": "code",
   "execution_count": 3,
   "id": "e26e718b",
   "metadata": {
    "execution": {
     "iopub.execute_input": "2023-01-07T12:50:52.469686Z",
     "iopub.status.busy": "2023-01-07T12:50:52.469146Z",
     "iopub.status.idle": "2023-01-07T12:50:52.474106Z",
     "shell.execute_reply": "2023-01-07T12:50:52.473095Z"
    },
    "papermill": {
     "duration": 0.012893,
     "end_time": "2023-01-07T12:50:52.476267",
     "exception": false,
     "start_time": "2023-01-07T12:50:52.463374",
     "status": "completed"
    },
    "tags": []
   },
   "outputs": [],
   "source": [
    "base_dir = os.path.join('/kaggle/input/american-sign-language-asl/American Sign Language (ASL)', 'dataAT')"
   ]
  },
  {
   "cell_type": "code",
   "execution_count": 4,
   "id": "8ece50d9",
   "metadata": {
    "_kg_hide-output": true,
    "execution": {
     "iopub.execute_input": "2023-01-07T12:50:52.486669Z",
     "iopub.status.busy": "2023-01-07T12:50:52.486382Z",
     "iopub.status.idle": "2023-01-07T12:50:55.912525Z",
     "shell.execute_reply": "2023-01-07T12:50:55.911539Z"
    },
    "papermill": {
     "duration": 3.434021,
     "end_time": "2023-01-07T12:50:55.914923",
     "exception": false,
     "start_time": "2023-01-07T12:50:52.480902",
     "status": "completed"
    },
    "tags": []
   },
   "outputs": [
    {
     "name": "stdout",
     "output_type": "stream",
     "text": [
      "Found 8100 files belonging to 27 classes.\n",
      "Using 2430 files for validation.\n"
     ]
    },
    {
     "name": "stderr",
     "output_type": "stream",
     "text": [
      "2023-01-07 12:50:53.177664: I tensorflow/stream_executor/cuda/cuda_gpu_executor.cc:937] successful NUMA node read from SysFS had negative value (-1), but there must be at least one NUMA node, so returning NUMA node zero\n",
      "2023-01-07 12:50:53.261477: I tensorflow/stream_executor/cuda/cuda_gpu_executor.cc:937] successful NUMA node read from SysFS had negative value (-1), but there must be at least one NUMA node, so returning NUMA node zero\n",
      "2023-01-07 12:50:53.262200: I tensorflow/stream_executor/cuda/cuda_gpu_executor.cc:937] successful NUMA node read from SysFS had negative value (-1), but there must be at least one NUMA node, so returning NUMA node zero\n",
      "2023-01-07 12:50:53.273510: I tensorflow/core/platform/cpu_feature_guard.cc:142] This TensorFlow binary is optimized with oneAPI Deep Neural Network Library (oneDNN) to use the following CPU instructions in performance-critical operations:  AVX2 AVX512F FMA\n",
      "To enable them in other operations, rebuild TensorFlow with the appropriate compiler flags.\n",
      "2023-01-07 12:50:53.273783: I tensorflow/stream_executor/cuda/cuda_gpu_executor.cc:937] successful NUMA node read from SysFS had negative value (-1), but there must be at least one NUMA node, so returning NUMA node zero\n",
      "2023-01-07 12:50:53.274501: I tensorflow/stream_executor/cuda/cuda_gpu_executor.cc:937] successful NUMA node read from SysFS had negative value (-1), but there must be at least one NUMA node, so returning NUMA node zero\n",
      "2023-01-07 12:50:53.275114: I tensorflow/stream_executor/cuda/cuda_gpu_executor.cc:937] successful NUMA node read from SysFS had negative value (-1), but there must be at least one NUMA node, so returning NUMA node zero\n",
      "2023-01-07 12:50:55.247465: I tensorflow/stream_executor/cuda/cuda_gpu_executor.cc:937] successful NUMA node read from SysFS had negative value (-1), but there must be at least one NUMA node, so returning NUMA node zero\n",
      "2023-01-07 12:50:55.248362: I tensorflow/stream_executor/cuda/cuda_gpu_executor.cc:937] successful NUMA node read from SysFS had negative value (-1), but there must be at least one NUMA node, so returning NUMA node zero\n",
      "2023-01-07 12:50:55.249204: I tensorflow/stream_executor/cuda/cuda_gpu_executor.cc:937] successful NUMA node read from SysFS had negative value (-1), but there must be at least one NUMA node, so returning NUMA node zero\n",
      "2023-01-07 12:50:55.249903: I tensorflow/core/common_runtime/gpu/gpu_device.cc:1510] Created device /job:localhost/replica:0/task:0/device:GPU:0 with 15401 MB memory:  -> device: 0, name: Tesla P100-PCIE-16GB, pci bus id: 0000:00:04.0, compute capability: 6.0\n"
     ]
    },
    {
     "name": "stdout",
     "output_type": "stream",
     "text": [
      "Found 8100 files belonging to 27 classes.\n",
      "Using 5670 files for training.\n"
     ]
    }
   ],
   "source": [
    "valid_data = image_dataset_from_directory(base_dir, validation_split=0.3, subset='validation', seed=45, image_size=(224,224), batch_size=100)\n",
    "train_data = image_dataset_from_directory(base_dir, validation_split=0.3, subset='training', seed=45, image_size=(224,224), batch_size=100)"
   ]
  },
  {
   "cell_type": "code",
   "execution_count": 5,
   "id": "c74660a6",
   "metadata": {
    "execution": {
     "iopub.execute_input": "2023-01-07T12:50:55.926918Z",
     "iopub.status.busy": "2023-01-07T12:50:55.926634Z",
     "iopub.status.idle": "2023-01-07T12:50:55.944960Z",
     "shell.execute_reply": "2023-01-07T12:50:55.944045Z"
    },
    "papermill": {
     "duration": 0.02691,
     "end_time": "2023-01-07T12:50:55.947253",
     "exception": false,
     "start_time": "2023-01-07T12:50:55.920343",
     "status": "completed"
    },
    "tags": []
   },
   "outputs": [],
   "source": [
    "normalizer = tf.keras.layers.Rescaling(1./255)"
   ]
  },
  {
   "cell_type": "code",
   "execution_count": 6,
   "id": "816ed5ac",
   "metadata": {
    "execution": {
     "iopub.execute_input": "2023-01-07T12:50:55.959281Z",
     "iopub.status.busy": "2023-01-07T12:50:55.959005Z",
     "iopub.status.idle": "2023-01-07T12:50:56.004280Z",
     "shell.execute_reply": "2023-01-07T12:50:56.003425Z"
    },
    "papermill": {
     "duration": 0.053839,
     "end_time": "2023-01-07T12:50:56.006572",
     "exception": false,
     "start_time": "2023-01-07T12:50:55.952733",
     "status": "completed"
    },
    "tags": []
   },
   "outputs": [],
   "source": [
    "#Normalize the data\n",
    "valid_data_nz = valid_data.map(lambda img, lbl: (normalizer(img), lbl))\n",
    "train_data_nz = train_data.map(lambda img, lbl: (normalizer(img),lbl))"
   ]
  },
  {
   "cell_type": "code",
   "execution_count": 7,
   "id": "5285029d",
   "metadata": {
    "execution": {
     "iopub.execute_input": "2023-01-07T12:50:56.021326Z",
     "iopub.status.busy": "2023-01-07T12:50:56.019786Z",
     "iopub.status.idle": "2023-01-07T12:50:56.026919Z",
     "shell.execute_reply": "2023-01-07T12:50:56.026062Z"
    },
    "papermill": {
     "duration": 0.015812,
     "end_time": "2023-01-07T12:50:56.029336",
     "exception": false,
     "start_time": "2023-01-07T12:50:56.013524",
     "status": "completed"
    },
    "tags": []
   },
   "outputs": [],
   "source": [
    "#GPU Performance\n",
    "valid_data_nz = valid_data_nz.cache().prefetch(tf.data.AUTOTUNE)\n",
    "train_data_nz = train_data_nz.cache().prefetch(tf.data.AUTOTUNE)"
   ]
  },
  {
   "cell_type": "markdown",
   "id": "17f3e30d",
   "metadata": {
    "papermill": {
     "duration": 0.004847,
     "end_time": "2023-01-07T12:50:56.039059",
     "exception": false,
     "start_time": "2023-01-07T12:50:56.034212",
     "status": "completed"
    },
    "tags": []
   },
   "source": [
    "**Model**"
   ]
  },
  {
   "cell_type": "code",
   "execution_count": 8,
   "id": "06ee3fe2",
   "metadata": {
    "execution": {
     "iopub.execute_input": "2023-01-07T12:50:56.051360Z",
     "iopub.status.busy": "2023-01-07T12:50:56.050069Z",
     "iopub.status.idle": "2023-01-07T12:50:56.344528Z",
     "shell.execute_reply": "2023-01-07T12:50:56.343606Z"
    },
    "papermill": {
     "duration": 0.303022,
     "end_time": "2023-01-07T12:50:56.346996",
     "exception": false,
     "start_time": "2023-01-07T12:50:56.043974",
     "status": "completed"
    },
    "tags": []
   },
   "outputs": [],
   "source": [
    "# RandomFlip, RandomZoom, RandomRotation\n",
    "data_augmentation = tf.keras.Sequential([\n",
    "    tf.keras.layers.RandomFlip(input_shape=(224,224,3)),\n",
    "    tf.keras.layers.RandomRotation(0.125),\n",
    "    tf.keras.layers.RandomZoom((0.3, 0.3))\n",
    "])"
   ]
  },
  {
   "cell_type": "code",
   "execution_count": 9,
   "id": "fdfb9580",
   "metadata": {
    "execution": {
     "iopub.execute_input": "2023-01-07T12:50:56.360530Z",
     "iopub.status.busy": "2023-01-07T12:50:56.359053Z",
     "iopub.status.idle": "2023-01-07T12:50:59.652284Z",
     "shell.execute_reply": "2023-01-07T12:50:59.651281Z"
    },
    "papermill": {
     "duration": 3.301973,
     "end_time": "2023-01-07T12:50:59.654937",
     "exception": false,
     "start_time": "2023-01-07T12:50:56.352964",
     "status": "completed"
    },
    "tags": []
   },
   "outputs": [
    {
     "name": "stdout",
     "output_type": "stream",
     "text": [
      "Downloading data from https://storage.googleapis.com/tensorflow/keras-applications/vgg16/vgg16_weights_tf_dim_ordering_tf_kernels_notop.h5\n",
      "58892288/58889256 [==============================] - 3s 0us/step\n",
      "58900480/58889256 [==============================] - 3s 0us/step\n"
     ]
    }
   ],
   "source": [
    "vgg16_layer = tf.keras.applications.vgg16.VGG16(include_top=False, input_shape=(224,224,3))"
   ]
  },
  {
   "cell_type": "code",
   "execution_count": 10,
   "id": "f9f55379",
   "metadata": {
    "execution": {
     "iopub.execute_input": "2023-01-07T12:50:59.672929Z",
     "iopub.status.busy": "2023-01-07T12:50:59.671853Z",
     "iopub.status.idle": "2023-01-07T12:50:59.677281Z",
     "shell.execute_reply": "2023-01-07T12:50:59.676366Z"
    },
    "papermill": {
     "duration": 0.016331,
     "end_time": "2023-01-07T12:50:59.679390",
     "exception": false,
     "start_time": "2023-01-07T12:50:59.663059",
     "status": "completed"
    },
    "tags": []
   },
   "outputs": [],
   "source": [
    "vgg16_layer.trainable = False"
   ]
  },
  {
   "cell_type": "code",
   "execution_count": 11,
   "id": "3efcdb60",
   "metadata": {
    "execution": {
     "iopub.execute_input": "2023-01-07T12:50:59.695479Z",
     "iopub.status.busy": "2023-01-07T12:50:59.695178Z",
     "iopub.status.idle": "2023-01-07T12:50:59.765701Z",
     "shell.execute_reply": "2023-01-07T12:50:59.764893Z"
    },
    "papermill": {
     "duration": 0.081261,
     "end_time": "2023-01-07T12:50:59.767867",
     "exception": false,
     "start_time": "2023-01-07T12:50:59.686606",
     "status": "completed"
    },
    "tags": []
   },
   "outputs": [],
   "source": [
    "model = tf.keras.Sequential([\n",
    "    vgg16_layer,\n",
    "    \n",
    "    tf.keras.layers.Flatten(),\n",
    "    tf.keras.layers.Dense(128, activation='relu'),\n",
    "    tf.keras.layers.Dropout(0.5),\n",
    "    # tf.keras.layers.Dense(64, activation='relu'),\n",
    "    # tf.keras.layers.Dropout(0.5),\n",
    "    tf.keras.layers.Dense(27)\n",
    "])"
   ]
  },
  {
   "cell_type": "code",
   "execution_count": 12,
   "id": "bc383c77",
   "metadata": {
    "execution": {
     "iopub.execute_input": "2023-01-07T12:50:59.784226Z",
     "iopub.status.busy": "2023-01-07T12:50:59.783494Z",
     "iopub.status.idle": "2023-01-07T12:50:59.795840Z",
     "shell.execute_reply": "2023-01-07T12:50:59.795032Z"
    },
    "papermill": {
     "duration": 0.02233,
     "end_time": "2023-01-07T12:50:59.797837",
     "exception": false,
     "start_time": "2023-01-07T12:50:59.775507",
     "status": "completed"
    },
    "tags": []
   },
   "outputs": [],
   "source": [
    "model.compile(optimizer='adam', loss=tf.keras.losses.SparseCategoricalCrossentropy(from_logits=True), metrics=['accuracy'])"
   ]
  },
  {
   "cell_type": "code",
   "execution_count": 13,
   "id": "b196c830",
   "metadata": {
    "execution": {
     "iopub.execute_input": "2023-01-07T12:50:59.813873Z",
     "iopub.status.busy": "2023-01-07T12:50:59.813109Z",
     "iopub.status.idle": "2023-01-07T12:50:59.820054Z",
     "shell.execute_reply": "2023-01-07T12:50:59.818463Z"
    },
    "papermill": {
     "duration": 0.01705,
     "end_time": "2023-01-07T12:50:59.821983",
     "exception": false,
     "start_time": "2023-01-07T12:50:59.804933",
     "status": "completed"
    },
    "tags": []
   },
   "outputs": [
    {
     "name": "stdout",
     "output_type": "stream",
     "text": [
      "Model: \"sequential_1\"\n",
      "_________________________________________________________________\n",
      "Layer (type)                 Output Shape              Param #   \n",
      "=================================================================\n",
      "vgg16 (Functional)           (None, 7, 7, 512)         14714688  \n",
      "_________________________________________________________________\n",
      "flatten (Flatten)            (None, 25088)             0         \n",
      "_________________________________________________________________\n",
      "dense (Dense)                (None, 128)               3211392   \n",
      "_________________________________________________________________\n",
      "dropout (Dropout)            (None, 128)               0         \n",
      "_________________________________________________________________\n",
      "dense_1 (Dense)              (None, 27)                3483      \n",
      "=================================================================\n",
      "Total params: 17,929,563\n",
      "Trainable params: 3,214,875\n",
      "Non-trainable params: 14,714,688\n",
      "_________________________________________________________________\n"
     ]
    }
   ],
   "source": [
    "model.summary()"
   ]
  },
  {
   "cell_type": "code",
   "execution_count": 14,
   "id": "2522bc6f",
   "metadata": {
    "execution": {
     "iopub.execute_input": "2023-01-07T12:50:59.837846Z",
     "iopub.status.busy": "2023-01-07T12:50:59.837330Z",
     "iopub.status.idle": "2023-01-07T12:50:59.841801Z",
     "shell.execute_reply": "2023-01-07T12:50:59.840884Z"
    },
    "papermill": {
     "duration": 0.014309,
     "end_time": "2023-01-07T12:50:59.843725",
     "exception": false,
     "start_time": "2023-01-07T12:50:59.829416",
     "status": "completed"
    },
    "tags": []
   },
   "outputs": [],
   "source": [
    "#Operation to save the best model in early stopping\n",
    "early_stopping = tf.keras.callbacks.EarlyStopping(patience=5)\n",
    "model_checkpoint = tf.keras.callbacks.ModelCheckpoint(\n",
    "    \"best_model\", save_best_only=True)"
   ]
  },
  {
   "cell_type": "code",
   "execution_count": 15,
   "id": "a9ce3b5c",
   "metadata": {
    "execution": {
     "iopub.execute_input": "2023-01-07T12:50:59.859729Z",
     "iopub.status.busy": "2023-01-07T12:50:59.859451Z",
     "iopub.status.idle": "2023-01-07T13:04:07.270153Z",
     "shell.execute_reply": "2023-01-07T13:04:07.269057Z"
    },
    "papermill": {
     "duration": 787.421311,
     "end_time": "2023-01-07T13:04:07.272466",
     "exception": false,
     "start_time": "2023-01-07T12:50:59.851155",
     "status": "completed"
    },
    "tags": []
   },
   "outputs": [
    {
     "name": "stdout",
     "output_type": "stream",
     "text": [
      "Epoch 1/500\n"
     ]
    },
    {
     "name": "stderr",
     "output_type": "stream",
     "text": [
      "2023-01-07 12:50:59.893104: I tensorflow/compiler/mlir/mlir_graph_optimization_pass.cc:185] None of the MLIR Optimization Passes are enabled (registered 2)\n",
      "2023-01-07 12:51:03.902346: I tensorflow/stream_executor/cuda/cuda_dnn.cc:369] Loaded cuDNN version 8005\n"
     ]
    },
    {
     "name": "stdout",
     "output_type": "stream",
     "text": [
      "57/57 [==============================] - 46s 510ms/step - loss: 2.4373 - accuracy: 0.2557 - val_loss: 1.1945 - val_accuracy: 0.8280\n"
     ]
    },
    {
     "name": "stderr",
     "output_type": "stream",
     "text": [
      "2023-01-07 12:51:46.325346: W tensorflow/python/util/util.cc:348] Sets are not currently considered sequences, but this may change in the future, so consider avoiding using them.\n"
     ]
    },
    {
     "name": "stdout",
     "output_type": "stream",
     "text": [
      "Epoch 2/500\n",
      "57/57 [==============================] - 15s 268ms/step - loss: 1.6129 - accuracy: 0.4711 - val_loss: 0.6563 - val_accuracy: 0.9749\n",
      "Epoch 3/500\n",
      "57/57 [==============================] - 15s 268ms/step - loss: 1.3660 - accuracy: 0.5369 - val_loss: 0.3861 - val_accuracy: 0.9955\n",
      "Epoch 4/500\n",
      "57/57 [==============================] - 15s 268ms/step - loss: 1.2620 - accuracy: 0.5517 - val_loss: 0.2763 - val_accuracy: 0.9963\n",
      "Epoch 5/500\n",
      "57/57 [==============================] - 15s 268ms/step - loss: 1.1913 - accuracy: 0.5691 - val_loss: 0.2255 - val_accuracy: 0.9984\n",
      "Epoch 6/500\n",
      "57/57 [==============================] - 15s 268ms/step - loss: 1.0880 - accuracy: 0.6048 - val_loss: 0.1609 - val_accuracy: 0.9992\n",
      "Epoch 7/500\n",
      "57/57 [==============================] - 15s 268ms/step - loss: 1.0585 - accuracy: 0.5986 - val_loss: 0.1300 - val_accuracy: 0.9992\n",
      "Epoch 8/500\n",
      "57/57 [==============================] - 15s 268ms/step - loss: 1.0286 - accuracy: 0.6129 - val_loss: 0.1106 - val_accuracy: 0.9992\n",
      "Epoch 9/500\n",
      "57/57 [==============================] - 15s 268ms/step - loss: 0.9973 - accuracy: 0.6231 - val_loss: 0.0931 - val_accuracy: 0.9988\n",
      "Epoch 10/500\n",
      "57/57 [==============================] - 15s 268ms/step - loss: 0.9876 - accuracy: 0.6203 - val_loss: 0.0822 - val_accuracy: 0.9996\n",
      "Epoch 11/500\n",
      "57/57 [==============================] - 15s 268ms/step - loss: 0.9742 - accuracy: 0.6242 - val_loss: 0.0716 - val_accuracy: 0.9992\n",
      "Epoch 12/500\n",
      "57/57 [==============================] - 15s 269ms/step - loss: 0.9491 - accuracy: 0.6309 - val_loss: 0.0653 - val_accuracy: 0.9996\n",
      "Epoch 13/500\n",
      "57/57 [==============================] - 15s 268ms/step - loss: 0.9275 - accuracy: 0.6404 - val_loss: 0.0447 - val_accuracy: 0.9996\n",
      "Epoch 14/500\n",
      "57/57 [==============================] - 15s 269ms/step - loss: 0.9144 - accuracy: 0.6462 - val_loss: 0.0502 - val_accuracy: 0.9996\n",
      "Epoch 15/500\n",
      "57/57 [==============================] - 15s 269ms/step - loss: 0.9076 - accuracy: 0.6504 - val_loss: 0.0453 - val_accuracy: 0.9996\n",
      "Epoch 16/500\n",
      "57/57 [==============================] - 15s 269ms/step - loss: 0.8925 - accuracy: 0.6557 - val_loss: 0.0406 - val_accuracy: 0.9996\n",
      "Epoch 17/500\n",
      "57/57 [==============================] - 15s 268ms/step - loss: 0.8863 - accuracy: 0.6483 - val_loss: 0.0408 - val_accuracy: 0.9996\n",
      "Epoch 18/500\n",
      "57/57 [==============================] - 15s 268ms/step - loss: 0.8621 - accuracy: 0.6621 - val_loss: 0.0331 - val_accuracy: 0.9996\n",
      "Epoch 19/500\n",
      "57/57 [==============================] - 15s 268ms/step - loss: 0.8745 - accuracy: 0.6543 - val_loss: 0.0368 - val_accuracy: 0.9996\n",
      "Epoch 20/500\n",
      "57/57 [==============================] - 15s 268ms/step - loss: 0.8820 - accuracy: 0.6559 - val_loss: 0.0270 - val_accuracy: 0.9996\n",
      "Epoch 21/500\n",
      "57/57 [==============================] - 15s 268ms/step - loss: 0.8558 - accuracy: 0.6658 - val_loss: 0.0281 - val_accuracy: 0.9996\n",
      "Epoch 22/500\n",
      "57/57 [==============================] - 15s 268ms/step - loss: 0.8403 - accuracy: 0.6644 - val_loss: 0.0282 - val_accuracy: 0.9996\n",
      "Epoch 23/500\n",
      "57/57 [==============================] - 15s 268ms/step - loss: 0.8465 - accuracy: 0.6614 - val_loss: 0.0365 - val_accuracy: 0.9996\n",
      "Epoch 24/500\n",
      "57/57 [==============================] - 15s 268ms/step - loss: 0.8485 - accuracy: 0.6647 - val_loss: 0.0232 - val_accuracy: 0.9996\n",
      "Epoch 25/500\n",
      "57/57 [==============================] - 15s 268ms/step - loss: 0.8405 - accuracy: 0.6646 - val_loss: 0.0288 - val_accuracy: 0.9996\n",
      "Epoch 26/500\n",
      "57/57 [==============================] - 15s 267ms/step - loss: 0.8437 - accuracy: 0.6670 - val_loss: 0.0196 - val_accuracy: 0.9992\n",
      "Epoch 27/500\n",
      "57/57 [==============================] - 15s 268ms/step - loss: 0.8355 - accuracy: 0.6695 - val_loss: 0.0308 - val_accuracy: 0.9996\n",
      "Epoch 28/500\n",
      "57/57 [==============================] - 15s 268ms/step - loss: 0.8431 - accuracy: 0.6623 - val_loss: 0.0243 - val_accuracy: 0.9996\n",
      "Epoch 29/500\n",
      "57/57 [==============================] - 15s 268ms/step - loss: 0.8136 - accuracy: 0.6780 - val_loss: 0.0289 - val_accuracy: 0.9996\n",
      "Epoch 30/500\n",
      "57/57 [==============================] - 15s 268ms/step - loss: 0.8383 - accuracy: 0.6640 - val_loss: 0.0186 - val_accuracy: 0.9992\n",
      "Epoch 31/500\n",
      "57/57 [==============================] - 15s 268ms/step - loss: 0.7919 - accuracy: 0.6771 - val_loss: 0.0162 - val_accuracy: 0.9992\n",
      "Epoch 32/500\n",
      "57/57 [==============================] - 15s 268ms/step - loss: 0.7911 - accuracy: 0.6829 - val_loss: 0.0158 - val_accuracy: 0.9996\n",
      "Epoch 33/500\n",
      "57/57 [==============================] - 15s 268ms/step - loss: 0.7934 - accuracy: 0.6772 - val_loss: 0.0159 - val_accuracy: 0.9996\n",
      "Epoch 34/500\n",
      "57/57 [==============================] - 15s 268ms/step - loss: 0.8250 - accuracy: 0.6681 - val_loss: 0.0280 - val_accuracy: 0.9996\n",
      "Epoch 35/500\n",
      "57/57 [==============================] - 15s 268ms/step - loss: 0.8069 - accuracy: 0.6764 - val_loss: 0.0145 - val_accuracy: 0.9996\n",
      "Epoch 36/500\n",
      "57/57 [==============================] - 15s 268ms/step - loss: 0.8100 - accuracy: 0.6686 - val_loss: 0.0271 - val_accuracy: 0.9996\n",
      "Epoch 37/500\n",
      "57/57 [==============================] - 15s 269ms/step - loss: 0.8376 - accuracy: 0.6617 - val_loss: 0.0185 - val_accuracy: 0.9992\n",
      "Epoch 38/500\n",
      "57/57 [==============================] - 15s 268ms/step - loss: 0.7951 - accuracy: 0.6795 - val_loss: 0.0146 - val_accuracy: 0.9996\n",
      "Epoch 39/500\n",
      "57/57 [==============================] - 15s 268ms/step - loss: 0.8224 - accuracy: 0.6665 - val_loss: 0.0265 - val_accuracy: 0.9996\n",
      "Epoch 40/500\n",
      "57/57 [==============================] - 15s 268ms/step - loss: 0.8072 - accuracy: 0.6776 - val_loss: 0.0172 - val_accuracy: 0.9996\n"
     ]
    }
   ],
   "source": [
    "EPOCHS = 500\n",
    "history = model.fit(train_data_nz, epochs=EPOCHS, validation_data=valid_data_nz, callbacks=[early_stopping, model_checkpoint])"
   ]
  },
  {
   "cell_type": "code",
   "execution_count": 16,
   "id": "d5bcd5ed",
   "metadata": {
    "execution": {
     "iopub.execute_input": "2023-01-07T13:04:07.585536Z",
     "iopub.status.busy": "2023-01-07T13:04:07.585151Z",
     "iopub.status.idle": "2023-01-07T13:04:08.595466Z",
     "shell.execute_reply": "2023-01-07T13:04:08.594469Z"
    },
    "papermill": {
     "duration": 1.141362,
     "end_time": "2023-01-07T13:04:08.598643",
     "exception": false,
     "start_time": "2023-01-07T13:04:07.457281",
     "status": "completed"
    },
    "tags": []
   },
   "outputs": [],
   "source": [
    "model = tf.keras.models.load_model(\"best_model\")"
   ]
  },
  {
   "cell_type": "code",
   "execution_count": 17,
   "id": "7c0e0827",
   "metadata": {
    "execution": {
     "iopub.execute_input": "2023-01-07T13:04:08.851335Z",
     "iopub.status.busy": "2023-01-07T13:04:08.850999Z",
     "iopub.status.idle": "2023-01-07T13:04:13.612288Z",
     "shell.execute_reply": "2023-01-07T13:04:13.611401Z"
    },
    "papermill": {
     "duration": 4.886707,
     "end_time": "2023-01-07T13:04:13.614423",
     "exception": false,
     "start_time": "2023-01-07T13:04:08.727716",
     "status": "completed"
    },
    "tags": []
   },
   "outputs": [
    {
     "name": "stdout",
     "output_type": "stream",
     "text": [
      "25/25 [==============================] - 5s 182ms/step - loss: 0.0145 - accuracy: 0.9996\n"
     ]
    },
    {
     "data": {
      "text/plain": [
       "[0.014533144421875477, 0.9995884895324707]"
      ]
     },
     "execution_count": 17,
     "metadata": {},
     "output_type": "execute_result"
    }
   ],
   "source": [
    "model.evaluate(valid_data_nz)"
   ]
  },
  {
   "cell_type": "code",
   "execution_count": 18,
   "id": "870b9076",
   "metadata": {
    "execution": {
     "iopub.execute_input": "2023-01-07T13:04:13.867089Z",
     "iopub.status.busy": "2023-01-07T13:04:13.866764Z",
     "iopub.status.idle": "2023-01-07T13:04:13.871689Z",
     "shell.execute_reply": "2023-01-07T13:04:13.870773Z"
    },
    "papermill": {
     "duration": 0.131587,
     "end_time": "2023-01-07T13:04:13.873716",
     "exception": false,
     "start_time": "2023-01-07T13:04:13.742129",
     "status": "completed"
    },
    "tags": []
   },
   "outputs": [],
   "source": [
    "def plot_image(image, label):\n",
    "    ax = plt.subplot(1, 1, 1)\n",
    "    plt.imshow(image.numpy())\n",
    "    plt.title(train_data.class_names[label])\n"
   ]
  },
  {
   "cell_type": "code",
   "execution_count": 19,
   "id": "4d3823d5",
   "metadata": {
    "execution": {
     "iopub.execute_input": "2023-01-07T13:04:14.120962Z",
     "iopub.status.busy": "2023-01-07T13:04:14.120644Z",
     "iopub.status.idle": "2023-01-07T13:04:14.378242Z",
     "shell.execute_reply": "2023-01-07T13:04:14.377324Z"
    },
    "papermill": {
     "duration": 0.383009,
     "end_time": "2023-01-07T13:04:14.380294",
     "exception": false,
     "start_time": "2023-01-07T13:04:13.997285",
     "status": "completed"
    },
    "tags": []
   },
   "outputs": [
    {
     "data": {
      "image/png": "[encoded data removed]",
      "text/plain": [
       "<Figure size 432x288 with 1 Axes>"
      ]
     },
     "metadata": {
      "needs_background": "light"
     },
     "output_type": "display_data"
    }
   ],
   "source": [
    "images, labels = next(iter(valid_data_nz))\n",
    "index = np.random.randint(0, 99)\n",
    "image = images[index]\n",
    "label = labels[index]\n",
    "\n",
    "plot_image(image, label)"
   ]
  },
  {
   "cell_type": "code",
   "execution_count": 20,
   "id": "2d047a31",
   "metadata": {
    "execution": {
     "iopub.execute_input": "2023-01-07T13:04:14.726630Z",
     "iopub.status.busy": "2023-01-07T13:04:14.726057Z",
     "iopub.status.idle": "2023-01-07T13:04:15.529347Z",
     "shell.execute_reply": "2023-01-07T13:04:15.528037Z"
    },
    "papermill": {
     "duration": 1.033506,
     "end_time": "2023-01-07T13:04:15.538452",
     "exception": false,
     "start_time": "2023-01-07T13:04:14.504946",
     "status": "completed"
    },
    "tags": []
   },
   "outputs": [
    {
     "name": "stdout",
     "output_type": "stream",
     "text": [
      "The letter is:  H\n"
     ]
    }
   ],
   "source": [
    "pred = model.predict(tf.expand_dims(image, 0), label)\n",
    "letter = train_data.class_names[tf.argmax(pred[0])]\n",
    "print(\"The letter is: \", letter)"
   ]
  },
  {
   "cell_type": "code",
   "execution_count": null,
   "id": "32032ff9",
   "metadata": {
    "papermill": {
     "duration": 0.190266,
     "end_time": "2023-01-07T13:04:15.928575",
     "exception": false,
     "start_time": "2023-01-07T13:04:15.738309",
     "status": "completed"
    },
    "tags": []
   },
   "outputs": [],
   "source": []
  }
 ],
 "metadata": {
  "kernelspec": {
   "display_name": "Python 3",
   "language": "python",
   "name": "python3"
  },
  "language_info": {
   "codemirror_mode": {
    "name": "ipython",
    "version": 3
   },
   "file_extension": ".py",
   "mimetype": "text/x-python",
   "name": "python",
   "nbconvert_exporter": "python",
   "pygments_lexer": "ipython3",
   "version": "3.7.12"
  },
  "papermill": {
   "default_parameters": {},
   "duration": 818.628758,
   "end_time": "2023-01-07T13:04:19.008972",
   "environment_variables": {},
   "exception": null,
   "input_path": "__notebook__.ipynb",
   "output_path": "__notebook__.ipynb",
   "parameters": {},
   "start_time": "2023-01-07T12:50:40.380214",
   "version": "2.3.4"
  }
 },
 "nbformat": 4,
 "nbformat_minor": 5
}
